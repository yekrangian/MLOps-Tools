{
 "cells": [
  {
   "cell_type": "code",
   "execution_count": 1,
   "id": "34517dcf",
   "metadata": {},
   "outputs": [],
   "source": [
    "from pyspark.sql import SparkSession\n",
    "import pyspark.sql.functions as func"
   ]
  },
  {
   "cell_type": "code",
   "execution_count": 2,
   "id": "77abd948",
   "metadata": {},
   "outputs": [
    {
     "name": "stderr",
     "output_type": "stream",
     "text": [
      "WARNING: An illegal reflective access operation has occurred\n",
      "WARNING: Illegal reflective access by org.apache.spark.unsafe.Platform (file:/Users/yekrangian/Data/MLOps-Tools/venv/lib/python3.9/site-packages/pyspark/jars/spark-unsafe_2.12-3.2.1.jar) to constructor java.nio.DirectByteBuffer(long,int)\n",
      "WARNING: Please consider reporting this to the maintainers of org.apache.spark.unsafe.Platform\n",
      "WARNING: Use --illegal-access=warn to enable warnings of further illegal reflective access operations\n",
      "WARNING: All illegal access operations will be denied in a future release\n",
      "Using Spark's default log4j profile: org/apache/spark/log4j-defaults.properties\n",
      "Setting default log level to \"WARN\".\n",
      "To adjust logging level use sc.setLogLevel(newLevel). For SparkR, use setLogLevel(newLevel).\n",
      "22/02/26 18:02:33 WARN NativeCodeLoader: Unable to load native-hadoop library for your platform... using builtin-java classes where applicable\n"
     ]
    }
   ],
   "source": [
    "spark = SparkSession.builder.appName('forex').getOrCreate()"
   ]
  },
  {
   "cell_type": "code",
   "execution_count": 3,
   "id": "42f12382",
   "metadata": {},
   "outputs": [
    {
     "data": {
      "text/html": [
       "\n",
       "            <div>\n",
       "                <p><b>SparkSession - in-memory</b></p>\n",
       "                \n",
       "        <div>\n",
       "            <p><b>SparkContext</b></p>\n",
       "\n",
       "            <p><a href=\"http://mohammads-mbp.lan:4040\">Spark UI</a></p>\n",
       "\n",
       "            <dl>\n",
       "              <dt>Version</dt>\n",
       "                <dd><code>v3.2.1</code></dd>\n",
       "              <dt>Master</dt>\n",
       "                <dd><code>local[*]</code></dd>\n",
       "              <dt>AppName</dt>\n",
       "                <dd><code>forex</code></dd>\n",
       "            </dl>\n",
       "        </div>\n",
       "        \n",
       "            </div>\n",
       "        "
      ],
      "text/plain": [
       "<pyspark.sql.session.SparkSession at 0x108ca71c0>"
      ]
     },
     "execution_count": 3,
     "metadata": {},
     "output_type": "execute_result"
    }
   ],
   "source": [
    "spark"
   ]
  },
  {
   "cell_type": "code",
   "execution_count": 4,
   "id": "2cd93d84",
   "metadata": {},
   "outputs": [
    {
     "name": "stdout",
     "output_type": "stream",
     "text": [
      "+------+--------+------------+------+-------+-------+-------+-------+\n",
      "|  Date|    Time|Weekday_Name|Volume|   Open|   High|    Low|  Close|\n",
      "+------+--------+------------+------+-------+-------+-------+-------+\n",
      "|1/2/22|22:00:00|      Sunday|  2933|1.13725|1.13795|  1.135|1.13588|\n",
      "|1/3/22| 2:00:00|      Monday|  2947|1.13587|1.13588|1.13361| 1.1338|\n",
      "|1/3/22| 6:00:00|      Monday|  9165|1.13381|1.13565| 1.1335|1.13518|\n",
      "|1/3/22|10:00:00|      Monday| 12894|1.13516|1.13664| 1.1346|1.13508|\n",
      "|1/3/22|14:00:00|      Monday| 21318|1.13507|1.13519|1.12798|1.12838|\n",
      "|1/3/22|18:00:00|      Monday|  4694| 1.1284|1.13005|1.12834|1.12974|\n",
      "|1/3/22|22:00:00|      Monday|  2616|1.12965| 1.1309|1.12944|1.13066|\n",
      "|1/4/22| 2:00:00|     Tuesday|  4266|1.13066|1.13094|1.12954|1.13048|\n",
      "|1/4/22| 6:00:00|     Tuesday| 12321|1.13047|1.13083|1.12834|1.13022|\n",
      "|1/4/22|10:00:00|     Tuesday| 16946| 1.1302|1.13056|1.12724|1.12802|\n",
      "+------+--------+------------+------+-------+-------+-------+-------+\n",
      "only showing top 10 rows\n",
      "\n"
     ]
    }
   ],
   "source": [
    "spark.read.option('header','true').csv('EUR_USD_H4.csv').show(10)"
   ]
  },
  {
   "cell_type": "code",
   "execution_count": 5,
   "id": "72959503",
   "metadata": {},
   "outputs": [],
   "source": [
    "df_pyspark = spark.read.option('header','true').csv('EUR_USD_H4.csv',inferSchema=True)"
   ]
  },
  {
   "cell_type": "code",
   "execution_count": 6,
   "id": "48dcbb27",
   "metadata": {},
   "outputs": [],
   "source": [
    "df_pyspark = spark.read.csv('EUR_USD_H4.csv', header= True, inferSchema=True)"
   ]
  },
  {
   "cell_type": "code",
   "execution_count": 7,
   "id": "9065ff83",
   "metadata": {},
   "outputs": [
    {
     "name": "stdout",
     "output_type": "stream",
     "text": [
      "root\n",
      " |-- Date: string (nullable = true)\n",
      " |-- Time: string (nullable = true)\n",
      " |-- Weekday_Name: string (nullable = true)\n",
      " |-- Volume: integer (nullable = true)\n",
      " |-- Open: double (nullable = true)\n",
      " |-- High: double (nullable = true)\n",
      " |-- Low: double (nullable = true)\n",
      " |-- Close: double (nullable = true)\n",
      "\n"
     ]
    }
   ],
   "source": [
    "df_pyspark.printSchema()"
   ]
  },
  {
   "cell_type": "markdown",
   "id": "59294c09",
   "metadata": {},
   "source": [
    "##### Print the columns"
   ]
  },
  {
   "cell_type": "code",
   "execution_count": 8,
   "id": "671814f7",
   "metadata": {},
   "outputs": [
    {
     "data": {
      "text/plain": [
       "['Date', 'Time', 'Weekday_Name', 'Volume', 'Open', 'High', 'Low', 'Close']"
      ]
     },
     "execution_count": 8,
     "metadata": {},
     "output_type": "execute_result"
    }
   ],
   "source": [
    "df_pyspark.columns"
   ]
  },
  {
   "cell_type": "markdown",
   "id": "d43c4508",
   "metadata": {},
   "source": [
    "##### Print the first 5 rows"
   ]
  },
  {
   "cell_type": "code",
   "execution_count": 9,
   "id": "789052cf",
   "metadata": {},
   "outputs": [
    {
     "data": {
      "text/plain": [
       "[Row(Date='1/2/22', Time='22:00:00', Weekday_Name='Sunday', Volume=2933, Open=1.13725, High=1.13795, Low=1.135, Close=1.13588),\n",
       " Row(Date='1/3/22', Time='2:00:00', Weekday_Name='Monday', Volume=2947, Open=1.13587, High=1.13588, Low=1.13361, Close=1.1338),\n",
       " Row(Date='1/3/22', Time='6:00:00', Weekday_Name='Monday', Volume=9165, Open=1.13381, High=1.13565, Low=1.1335, Close=1.13518),\n",
       " Row(Date='1/3/22', Time='10:00:00', Weekday_Name='Monday', Volume=12894, Open=1.13516, High=1.13664, Low=1.1346, Close=1.13508),\n",
       " Row(Date='1/3/22', Time='14:00:00', Weekday_Name='Monday', Volume=21318, Open=1.13507, High=1.13519, Low=1.12798, Close=1.12838)]"
      ]
     },
     "execution_count": 9,
     "metadata": {},
     "output_type": "execute_result"
    }
   ],
   "source": [
    "df_pyspark.head(5)"
   ]
  },
  {
   "cell_type": "markdown",
   "id": "9db90d99",
   "metadata": {},
   "source": [
    "##### Print the last 5 rows"
   ]
  },
  {
   "cell_type": "code",
   "execution_count": 10,
   "id": "8089f44a",
   "metadata": {},
   "outputs": [
    {
     "data": {
      "text/plain": [
       "[Row(Date='2/25/22', Time='2:00:00', Weekday_Name='Friday', Volume=19004, Open=1.12036, High=1.12288, Low=1.11988, Close=1.12256),\n",
       " Row(Date='2/25/22', Time='6:00:00', Weekday_Name='Friday', Volume=49229, Open=1.12256, High=1.12256, Low=1.11693, Close=1.11816),\n",
       " Row(Date='2/25/22', Time='10:00:00', Weekday_Name='Friday', Volume=59764, Open=1.11814, High=1.12416, Low=1.1166, Close=1.12368),\n",
       " Row(Date='2/25/22', Time='14:00:00', Weekday_Name='Friday', Volume=62493, Open=1.12368, High=1.1267, Low=1.12186, Close=1.12409),\n",
       " Row(Date='2/25/22', Time='18:00:00', Weekday_Name='Friday', Volume=20912, Open=1.12408, High=1.12744, Low=1.12408, Close=1.12712)]"
      ]
     },
     "execution_count": 10,
     "metadata": {},
     "output_type": "execute_result"
    }
   ],
   "source": [
    "df_pyspark.tail(5)"
   ]
  },
  {
   "cell_type": "markdown",
   "id": "30b06fcc",
   "metadata": {},
   "source": [
    "##### Show the first 5 rows in dataframe format"
   ]
  },
  {
   "cell_type": "code",
   "execution_count": 11,
   "id": "abad53d6",
   "metadata": {},
   "outputs": [
    {
     "name": "stdout",
     "output_type": "stream",
     "text": [
      "+------+--------+------------+------+-------+-------+-------+-------+\n",
      "|  Date|    Time|Weekday_Name|Volume|   Open|   High|    Low|  Close|\n",
      "+------+--------+------------+------+-------+-------+-------+-------+\n",
      "|1/2/22|22:00:00|      Sunday|  2933|1.13725|1.13795|  1.135|1.13588|\n",
      "|1/3/22| 2:00:00|      Monday|  2947|1.13587|1.13588|1.13361| 1.1338|\n",
      "|1/3/22| 6:00:00|      Monday|  9165|1.13381|1.13565| 1.1335|1.13518|\n",
      "|1/3/22|10:00:00|      Monday| 12894|1.13516|1.13664| 1.1346|1.13508|\n",
      "|1/3/22|14:00:00|      Monday| 21318|1.13507|1.13519|1.12798|1.12838|\n",
      "+------+--------+------------+------+-------+-------+-------+-------+\n",
      "only showing top 5 rows\n",
      "\n"
     ]
    }
   ],
   "source": [
    "df_pyspark.show(5)"
   ]
  },
  {
   "cell_type": "markdown",
   "id": "ba60e38d",
   "metadata": {},
   "source": [
    "##### Select and show multiple columns"
   ]
  },
  {
   "cell_type": "code",
   "execution_count": 12,
   "id": "c2268d86",
   "metadata": {},
   "outputs": [
    {
     "name": "stdout",
     "output_type": "stream",
     "text": [
      "+-------+-------+-------+-------+\n",
      "|   Open|   High|    Low|  Close|\n",
      "+-------+-------+-------+-------+\n",
      "|1.13725|1.13795|  1.135|1.13588|\n",
      "|1.13587|1.13588|1.13361| 1.1338|\n",
      "|1.13381|1.13565| 1.1335|1.13518|\n",
      "|1.13516|1.13664| 1.1346|1.13508|\n",
      "|1.13507|1.13519|1.12798|1.12838|\n",
      "| 1.1284|1.13005|1.12834|1.12974|\n",
      "|1.12965| 1.1309|1.12944|1.13066|\n",
      "|1.13066|1.13094|1.12954|1.13048|\n",
      "|1.13047|1.13083|1.12834|1.13022|\n",
      "| 1.1302|1.13056|1.12724|1.12802|\n",
      "+-------+-------+-------+-------+\n",
      "only showing top 10 rows\n",
      "\n"
     ]
    }
   ],
   "source": [
    "df_pyspark.select(['Open','High','Low','Close']).show(10)"
   ]
  },
  {
   "cell_type": "markdown",
   "id": "f0d67e0b",
   "metadata": {},
   "source": [
    "##### Select and show single column"
   ]
  },
  {
   "cell_type": "code",
   "execution_count": 13,
   "id": "1922d091",
   "metadata": {},
   "outputs": [
    {
     "name": "stdout",
     "output_type": "stream",
     "text": [
      "+-------+\n",
      "|  Close|\n",
      "+-------+\n",
      "|1.13588|\n",
      "| 1.1338|\n",
      "|1.13518|\n",
      "|1.13508|\n",
      "|1.12838|\n",
      "+-------+\n",
      "only showing top 5 rows\n",
      "\n"
     ]
    }
   ],
   "source": [
    "df_pyspark.select(['Close']).show(5)"
   ]
  },
  {
   "cell_type": "markdown",
   "id": "1ad6e3c7",
   "metadata": {},
   "source": [
    "##### Describe a column"
   ]
  },
  {
   "cell_type": "code",
   "execution_count": 14,
   "id": "d061de87",
   "metadata": {},
   "outputs": [
    {
     "name": "stdout",
     "output_type": "stream",
     "text": [
      "+-------+------------------+\n",
      "|summary|            Volume|\n",
      "+-------+------------------+\n",
      "|  count|               240|\n",
      "|   mean|16518.058333333334|\n",
      "| stddev|14999.140562433759|\n",
      "|    min|               954|\n",
      "|    max|             88517|\n",
      "+-------+------------------+\n",
      "\n"
     ]
    }
   ],
   "source": [
    "df_pyspark.select(['Volume']).describe().show()"
   ]
  },
  {
   "cell_type": "markdown",
   "id": "8ec76abc",
   "metadata": {},
   "source": [
    "##### Round "
   ]
  },
  {
   "cell_type": "code",
   "execution_count": 15,
   "id": "8035cc9a",
   "metadata": {},
   "outputs": [],
   "source": [
    "df_pyspark = df_pyspark.withColumn('Open', func.round(df_pyspark['Open'], 4))\n",
    "df_pyspark = df_pyspark.withColumn('High', func.round(df_pyspark['High'], 4))\n",
    "df_pyspark = df_pyspark.withColumn('Low', func.round(df_pyspark['Low'], 4))\n",
    "df_pyspark = df_pyspark.withColumn('Close', func.round(df_pyspark['Close'], 4))"
   ]
  },
  {
   "cell_type": "markdown",
   "id": "5e4d45f9",
   "metadata": {},
   "source": [
    "##### Add a column "
   ]
  },
  {
   "cell_type": "code",
   "execution_count": 16,
   "id": "77882878",
   "metadata": {},
   "outputs": [],
   "source": [
    "df_pyspark = df_pyspark.withColumn('Price Range', func.round(df_pyspark['Open'] - df_pyspark['Close'], 4))"
   ]
  },
  {
   "cell_type": "code",
   "execution_count": 17,
   "id": "b648264f",
   "metadata": {},
   "outputs": [
    {
     "name": "stdout",
     "output_type": "stream",
     "text": [
      "+------+--------+------------+------+------+------+------+------+-----------+\n",
      "|  Date|    Time|Weekday_Name|Volume|  Open|  High|   Low| Close|Price Range|\n",
      "+------+--------+------------+------+------+------+------+------+-----------+\n",
      "|1/2/22|22:00:00|      Sunday|  2933|1.1373| 1.138| 1.135|1.1359|     0.0014|\n",
      "|1/3/22| 2:00:00|      Monday|  2947|1.1359|1.1359|1.1336|1.1338|     0.0021|\n",
      "|1/3/22| 6:00:00|      Monday|  9165|1.1338|1.1357|1.1335|1.1352|    -0.0014|\n",
      "|1/3/22|10:00:00|      Monday| 12894|1.1352|1.1366|1.1346|1.1351|     1.0E-4|\n",
      "|1/3/22|14:00:00|      Monday| 21318|1.1351|1.1352| 1.128|1.1284|     0.0067|\n",
      "+------+--------+------------+------+------+------+------+------+-----------+\n",
      "only showing top 5 rows\n",
      "\n"
     ]
    }
   ],
   "source": [
    "df_pyspark.show(5)"
   ]
  },
  {
   "cell_type": "markdown",
   "id": "7e18c455",
   "metadata": {},
   "source": [
    "##### Rename a column"
   ]
  },
  {
   "cell_type": "code",
   "execution_count": 20,
   "id": "a6d15416",
   "metadata": {},
   "outputs": [],
   "source": [
    "df_pyspark = df_pyspark.withColumnRenamed('Price Range', 'Price_Range')"
   ]
  },
  {
   "cell_type": "code",
   "execution_count": 22,
   "id": "6aae5273",
   "metadata": {},
   "outputs": [
    {
     "name": "stdout",
     "output_type": "stream",
     "text": [
      "+------+--------+------------+------+------+------+------+------+-----------+\n",
      "|  Date|    Time|Weekday_Name|Volume|  Open|  High|   Low| Close|Price_Range|\n",
      "+------+--------+------------+------+------+------+------+------+-----------+\n",
      "|1/2/22|22:00:00|      Sunday|  2933|1.1373| 1.138| 1.135|1.1359|     0.0014|\n",
      "|1/3/22| 2:00:00|      Monday|  2947|1.1359|1.1359|1.1336|1.1338|     0.0021|\n",
      "|1/3/22| 6:00:00|      Monday|  9165|1.1338|1.1357|1.1335|1.1352|    -0.0014|\n",
      "|1/3/22|10:00:00|      Monday| 12894|1.1352|1.1366|1.1346|1.1351|     1.0E-4|\n",
      "|1/3/22|14:00:00|      Monday| 21318|1.1351|1.1352| 1.128|1.1284|     0.0067|\n",
      "+------+--------+------------+------+------+------+------+------+-----------+\n",
      "only showing top 5 rows\n",
      "\n"
     ]
    }
   ],
   "source": [
    "df_pyspark.show(5)"
   ]
  },
  {
   "cell_type": "code",
   "execution_count": null,
   "id": "ded809f6",
   "metadata": {},
   "outputs": [],
   "source": []
  }
 ],
 "metadata": {
  "kernelspec": {
   "display_name": "Python 3 (ipykernel)",
   "language": "python",
   "name": "python3"
  },
  "language_info": {
   "codemirror_mode": {
    "name": "ipython",
    "version": 3
   },
   "file_extension": ".py",
   "mimetype": "text/x-python",
   "name": "python",
   "nbconvert_exporter": "python",
   "pygments_lexer": "ipython3",
   "version": "3.9.7"
  }
 },
 "nbformat": 4,
 "nbformat_minor": 5
}
