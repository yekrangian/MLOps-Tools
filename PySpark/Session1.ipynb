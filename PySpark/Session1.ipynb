{
 "cells": [
  {
   "cell_type": "code",
   "execution_count": 1,
   "id": "96ac98d5",
   "metadata": {},
   "outputs": [],
   "source": [
    "from pyspark.sql import SparkSession\n",
    "import warnings\n",
    "warnings.filterwarnings('ignore')"
   ]
  },
  {
   "cell_type": "markdown",
   "id": "2bf36f38",
   "metadata": {},
   "source": [
    "#### Create Spark Session"
   ]
  },
  {
   "cell_type": "code",
   "execution_count": 3,
   "id": "c471e1f4",
   "metadata": {},
   "outputs": [],
   "source": [
    "spark = SparkSession.builder.appName('forex').getOrCreate()"
   ]
  },
  {
   "cell_type": "code",
   "execution_count": 4,
   "id": "a6f0e45b",
   "metadata": {},
   "outputs": [
    {
     "data": {
      "text/html": [
       "\n",
       "            <div>\n",
       "                <p><b>SparkSession - in-memory</b></p>\n",
       "                \n",
       "        <div>\n",
       "            <p><b>SparkContext</b></p>\n",
       "\n",
       "            <p><a href=\"http://mohammads-mbp.lan:4040\">Spark UI</a></p>\n",
       "\n",
       "            <dl>\n",
       "              <dt>Version</dt>\n",
       "                <dd><code>v3.2.1</code></dd>\n",
       "              <dt>Master</dt>\n",
       "                <dd><code>local[*]</code></dd>\n",
       "              <dt>AppName</dt>\n",
       "                <dd><code>forex</code></dd>\n",
       "            </dl>\n",
       "        </div>\n",
       "        \n",
       "            </div>\n",
       "        "
      ],
      "text/plain": [
       "<pyspark.sql.session.SparkSession at 0x10869dcd0>"
      ]
     },
     "execution_count": 4,
     "metadata": {},
     "output_type": "execute_result"
    }
   ],
   "source": [
    "spark"
   ]
  },
  {
   "cell_type": "code",
   "execution_count": 5,
   "id": "059ce68b",
   "metadata": {},
   "outputs": [],
   "source": [
    "df = spark.read.option('header','true').csv('EUR_USD_H4.csv')"
   ]
  },
  {
   "cell_type": "code",
   "execution_count": 6,
   "id": "acffdac6",
   "metadata": {},
   "outputs": [
    {
     "name": "stdout",
     "output_type": "stream",
     "text": [
      "root\n",
      " |-- Date: string (nullable = true)\n",
      " |-- Time: string (nullable = true)\n",
      " |-- f_time: string (nullable = true)\n",
      " |-- julian_date: string (nullable = true)\n",
      " |-- Weekday: string (nullable = true)\n",
      " |-- Weekday_Name: string (nullable = true)\n",
      " |-- UTC_Time: string (nullable = true)\n",
      " |-- Volume: string (nullable = true)\n",
      " |-- Open: string (nullable = true)\n",
      " |-- High: string (nullable = true)\n",
      " |-- Low: string (nullable = true)\n",
      " |-- Close: string (nullable = true)\n",
      " |-- SMA_5: string (nullable = true)\n",
      " |-- SMA_10: string (nullable = true)\n",
      " |-- SMA_20: string (nullable = true)\n",
      " |-- F_SMA_5: string (nullable = true)\n",
      " |-- F_SMA_10: string (nullable = true)\n",
      " |-- F_SMA_20: string (nullable = true)\n",
      " |-- O-H: string (nullable = true)\n",
      " |-- O-L: string (nullable = true)\n",
      " |-- O-C: string (nullable = true)\n",
      " |-- H-L: string (nullable = true)\n",
      " |-- H-C: string (nullable = true)\n",
      " |-- L-C: string (nullable = true)\n",
      " |-- Direction: string (nullable = true)\n",
      " |-- col_1: string (nullable = true)\n",
      " |-- col_2: string (nullable = true)\n",
      " |-- col_3: string (nullable = true)\n",
      " |-- col_4: string (nullable = true)\n",
      " |-- col_5: string (nullable = true)\n",
      " |-- Trend: string (nullable = true)\n",
      "\n"
     ]
    }
   ],
   "source": [
    "df.printSchema()"
   ]
  },
  {
   "cell_type": "code",
   "execution_count": 8,
   "id": "303d3b56",
   "metadata": {},
   "outputs": [
    {
     "data": {
      "text/plain": [
       "Row(Date='2015-12-15', Time='22:00:00', f_time='22', julian_date='349', Weekday='1', Weekday_Name='Tuesday', UTC_Time='2015-12-15T22:00:00.000000000Z', Volume='2063', Open='1.09295', High='1.09462', Low='1.0923', Close='1.09424', SMA_5='1.0959', SMA_10='1.0983', SMA_20='1.0971', F_SMA_5='-0.0016599999999999', F_SMA_10='-0.0040599999999999', F_SMA_20='-0.0028599999999998', O-H='-0.0016699999999998383', O-L='0.0006500000000000394', O-C='-0.0012900000000000134', H-L='0.0023199999999998777', H-C='0.0003799999999998249', L-C='-0.0019400000000000528', Direction='1', col_1='-0.0012900000000000134', col_2='0.0003799999999998249', col_3='0.0006500000000000394', col_4='-0.0007099999999999884', col_5='0.0047399999999999665', Trend='-75.0')"
      ]
     },
     "execution_count": 8,
     "metadata": {},
     "output_type": "execute_result"
    }
   ],
   "source": [
    "df.head()"
   ]
  },
  {
   "cell_type": "code",
   "execution_count": 9,
   "id": "59059bcb",
   "metadata": {},
   "outputs": [
    {
     "data": {
      "text/plain": [
       "pyspark.sql.dataframe.DataFrame"
      ]
     },
     "execution_count": 9,
     "metadata": {},
     "output_type": "execute_result"
    }
   ],
   "source": [
    "type(df)"
   ]
  },
  {
   "cell_type": "code",
   "execution_count": null,
   "id": "025855ac",
   "metadata": {},
   "outputs": [],
   "source": []
  }
 ],
 "metadata": {
  "kernelspec": {
   "display_name": "Python 3 (ipykernel)",
   "language": "python",
   "name": "python3"
  },
  "language_info": {
   "codemirror_mode": {
    "name": "ipython",
    "version": 3
   },
   "file_extension": ".py",
   "mimetype": "text/x-python",
   "name": "python",
   "nbconvert_exporter": "python",
   "pygments_lexer": "ipython3",
   "version": "3.9.7"
  }
 },
 "nbformat": 4,
 "nbformat_minor": 5
}
